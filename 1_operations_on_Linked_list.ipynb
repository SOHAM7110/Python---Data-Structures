{
 "cells": [
  {
   "cell_type": "markdown",
   "id": "9e7324d7",
   "metadata": {},
   "source": [
    "Node Creation"
   ]
  },
  {
   "cell_type": "code",
   "execution_count": 243,
   "id": "a91d0ad1",
   "metadata": {},
   "outputs": [],
   "source": [
    "class Node:\n",
    "    def __init__(self,value):\n",
    "        self.value = value\n",
    "        self.next = None"
   ]
  },
  {
   "cell_type": "markdown",
   "id": "f0264e59",
   "metadata": {},
   "source": [
    "Linked List"
   ]
  },
  {
   "cell_type": "code",
   "execution_count": null,
   "id": "28d4fecb",
   "metadata": {},
   "outputs": [],
   "source": [
    "class LinkedList:\n",
    "    \n",
    "    # Linked List Constructor\n",
    "    def __init__(self, value):\n",
    "        new_node = Node(value)\n",
    "        self.head = new_node\n",
    "        self.tail = new_node\n",
    "        self.length = 1\n",
    "\n",
    "\n",
    "\n",
    "    # Print Linked List\n",
    "    def print_list(self):\n",
    "        temp = self.head\n",
    "        while temp is not None:\n",
    "            print(temp.value, end=\"---->\")\n",
    "            temp = temp.next\n",
    "        print(\"None\")\n",
    "\n",
    "\n",
    "\n",
    "\n",
    "    # Append----------------------------------------\n",
    "    def append(self, value):\n",
    "        new_node = Node(value)      # created a Node\n",
    "\n",
    "        if self.head is None:       # if the Linked List is empty\n",
    "            self.head = new_node\n",
    "            self.tail = new_node\n",
    "        else:                       # if the Linked List is NOT empty\n",
    "            self.tail.next = new_node\n",
    "            self.tail = new_node\n",
    "        \n",
    "        self.length += 1                 # always have to increment length by one\n",
    "        \n",
    "        return True                 # (optional)\n",
    "    \n",
    "\n",
    "    \n",
    "    # Pop - Remove the 'last' Node from the Linked List and return it -------------\n",
    "    def pop(self):\n",
    "        if self.length == 0:            # Empty Linked List\n",
    "            return None\n",
    "        \n",
    "        else:\n",
    "            temp = self.head            # to get the last element\n",
    "            pre = self.head             # to get the 2nd last element so that tail can be updated\n",
    "\n",
    "            while(temp.next is not None):   # (OR) while(temp.next) :       this also means the the same\n",
    "                pre = temp\n",
    "                temp = temp.next        # exits loop when temp is the last element\n",
    "\n",
    "            self.tail = pre             # tail points to 2nd last element\n",
    "            self.tail.next = None       # tail.next becomes None\n",
    "            self.length -= 1\n",
    "\n",
    "            if self.length == 0:\n",
    "                # case where Linked List becomes empty after removing the last element       \n",
    "                self.tail = None\n",
    "                self.head = None\n",
    "            return temp.value                 # returned the last element\n",
    "        \n",
    "\n",
    "\n",
    "    # Prepend - ad Node at the Start of the list\n",
    "    def prepend(self, value):\n",
    "        new_node = Node(value)\n",
    "\n",
    "        if self.length == 0:\n",
    "            self.head = new_node\n",
    "            self.tail = new_node\n",
    "            # tail.next is always None\n",
    "        else:\n",
    "            new_node.next = self.head\n",
    "            self.head = new_node\n",
    "\n",
    "        self.length += 1\n",
    "        return True\n",
    "    \n",
    "\n",
    "\n",
    "    # PopFirst - remove the first element\n",
    "    def popFirst(self):\n",
    "        if self.length == 0:        # empty list\n",
    "            return None\n",
    "        \n",
    "        first = self.head\n",
    "        self.head = self.head.next\n",
    "        first.next = None\n",
    "\n",
    "        self.length -= 1\n",
    "\n",
    "        if self.length == 0:        # when remove the only item in the list\n",
    "            self.tail = None\n",
    "\n",
    "        return first.value\n",
    "    \n",
    "\n",
    "    \n",
    "    # Get - to print the value at given Index\n",
    "    def get(self, index):                       # index starts at 0 to (self.length - 1)\n",
    "        if index < 0 or index >= self.length:    # check if index is within bounds\n",
    "            return None\n",
    "        temp = self.head\n",
    "        for _ in range(index):\n",
    "            temp = temp.next\n",
    "        return temp\n",
    "    \n",
    "\n",
    "\n",
    "    # Set -  to set given value for given index\n",
    "    def set_value(self, index, value):\n",
    "        temp = self.get(index)\n",
    "        print(temp)\n",
    "        if temp:\n",
    "            temp.value = value\n",
    "            return True\n",
    "        return False\n",
    "    \n",
    "\n",
    "\n",
    "    \"\"\" Insert - add new Node at given index and within the length of the Linked List\n",
    "                    i.e index >= 0 and index <= self.length\"\"\"\n",
    "    def insert(self, index, value):\n",
    "        if index < 0 or index > self.length:\n",
    "            return False\n",
    "        if index == 0:                          # index at head\n",
    "            return self.prepend(value)              # return True\n",
    "        if index == self.length:                # index at tail\n",
    "            return self.append(value)               # return True\n",
    "        \n",
    "        # For index > 0 and index < self.length :\n",
    "        new_node = Node(value)\n",
    "\n",
    "        temp = self.get(index-1)                # temp = one index prior to given index\n",
    "\n",
    "        new_node = temp.next\n",
    "        temp.next = new_node\n",
    "\n",
    "        self.length += 1\n",
    "        return self.print_list()\n",
    "    \n",
    "\n",
    "\n",
    "    \"\"\" Remove - remove Node from a given index and within the length of the Linked List\n",
    "                    i.e index >= 0 and index <= self.length\"\"\"\n",
    "    def remove(self, index):\n",
    "        if index < 0 or index > self.length:\n",
    "            return False\n",
    "        if index == 0:\n",
    "            return self.popFirst()\n",
    "        if index == self.length():\n",
    "            return self.pop()\n",
    "        \n",
    "        # For index > 0 and index < self.length :\n",
    "        pre = self.get(index-1)\n",
    "        temp = pre.next\n",
    "        pre.next = temp.next\n",
    "        temp.next = None\n",
    "        self.length -= 1\n",
    "        return temp"
   ]
  },
  {
   "cell_type": "markdown",
   "id": "b8b1e521",
   "metadata": {},
   "source": [
    "create Linked List Object"
   ]
  },
  {
   "cell_type": "code",
   "execution_count": 245,
   "id": "9e1482be",
   "metadata": {},
   "outputs": [],
   "source": [
    "lst = LinkedList(25)"
   ]
  },
  {
   "cell_type": "markdown",
   "id": "c14cf19e",
   "metadata": {},
   "source": [
    "single item in Linked List"
   ]
  },
  {
   "cell_type": "code",
   "execution_count": 246,
   "id": "bd9cd178",
   "metadata": {},
   "outputs": [
    {
     "name": "stdout",
     "output_type": "stream",
     "text": [
      "25---->None\n"
     ]
    }
   ],
   "source": [
    "lst.print_list()"
   ]
  },
  {
   "cell_type": "markdown",
   "id": "216235ce",
   "metadata": {},
   "source": [
    "Apend()"
   ]
  },
  {
   "cell_type": "code",
   "execution_count": 247,
   "id": "7016bfcb",
   "metadata": {},
   "outputs": [
    {
     "data": {
      "text/plain": [
       "True"
      ]
     },
     "execution_count": 247,
     "metadata": {},
     "output_type": "execute_result"
    }
   ],
   "source": [
    "lst.append(7)\n",
    "lst.append(11)\n",
    "lst.append(0)"
   ]
  },
  {
   "cell_type": "code",
   "execution_count": 248,
   "id": "1c074cfd",
   "metadata": {},
   "outputs": [
    {
     "name": "stdout",
     "output_type": "stream",
     "text": [
      "25---->7---->11---->0---->None\n"
     ]
    }
   ],
   "source": [
    "lst.print_list()"
   ]
  },
  {
   "cell_type": "code",
   "execution_count": 249,
   "id": "47c1e5bc",
   "metadata": {},
   "outputs": [
    {
     "name": "stdout",
     "output_type": "stream",
     "text": [
      "7\n"
     ]
    }
   ],
   "source": [
    "print(lst.head.next.value)"
   ]
  },
  {
   "cell_type": "markdown",
   "id": "56707ebc",
   "metadata": {},
   "source": [
    "Pop()"
   ]
  },
  {
   "cell_type": "code",
   "execution_count": 250,
   "id": "91933e0a",
   "metadata": {},
   "outputs": [
    {
     "data": {
      "text/plain": [
       "0"
      ]
     },
     "execution_count": 250,
     "metadata": {},
     "output_type": "execute_result"
    }
   ],
   "source": [
    "lst.pop()"
   ]
  },
  {
   "cell_type": "code",
   "execution_count": 251,
   "id": "bd9b54b5",
   "metadata": {},
   "outputs": [
    {
     "name": "stdout",
     "output_type": "stream",
     "text": [
      "25---->7---->11---->None\n"
     ]
    }
   ],
   "source": [
    "lst.print_list()"
   ]
  },
  {
   "cell_type": "markdown",
   "id": "26e6689b",
   "metadata": {},
   "source": [
    "Prepend()"
   ]
  },
  {
   "cell_type": "code",
   "execution_count": 252,
   "id": "798a7b26",
   "metadata": {},
   "outputs": [
    {
     "data": {
      "text/plain": [
       "True"
      ]
     },
     "execution_count": 252,
     "metadata": {},
     "output_type": "execute_result"
    }
   ],
   "source": [
    "lst.prepend(16)"
   ]
  },
  {
   "cell_type": "code",
   "execution_count": 253,
   "id": "055e0288",
   "metadata": {},
   "outputs": [
    {
     "name": "stdout",
     "output_type": "stream",
     "text": [
      "16---->25---->7---->11---->None\n"
     ]
    }
   ],
   "source": [
    "lst.print_list()"
   ]
  },
  {
   "cell_type": "code",
   "execution_count": 254,
   "id": "ce25c2b8",
   "metadata": {},
   "outputs": [
    {
     "data": {
      "text/plain": [
       "16"
      ]
     },
     "execution_count": 254,
     "metadata": {},
     "output_type": "execute_result"
    }
   ],
   "source": [
    "lst.pop()\n",
    "lst.pop()\n",
    "lst.pop()\n",
    "lst.pop()"
   ]
  },
  {
   "cell_type": "code",
   "execution_count": 255,
   "id": "79041241",
   "metadata": {},
   "outputs": [
    {
     "name": "stdout",
     "output_type": "stream",
     "text": [
      "None\n"
     ]
    }
   ],
   "source": [
    "lst.print_list()"
   ]
  },
  {
   "cell_type": "markdown",
   "id": "414e5ac6",
   "metadata": {},
   "source": [
    "PopFirst()"
   ]
  },
  {
   "cell_type": "code",
   "execution_count": 256,
   "id": "0363db76",
   "metadata": {},
   "outputs": [
    {
     "data": {
      "text/plain": [
       "7"
      ]
     },
     "execution_count": 256,
     "metadata": {},
     "output_type": "execute_result"
    }
   ],
   "source": [
    "lst.append(7)\n",
    "lst.append(11)\n",
    "lst.append(0)\n",
    "lst.append(25)\n",
    "lst.append(16)\n",
    "lst.append(10)\n",
    "lst.popFirst()"
   ]
  },
  {
   "cell_type": "code",
   "execution_count": 257,
   "id": "2f327a0b",
   "metadata": {},
   "outputs": [
    {
     "name": "stdout",
     "output_type": "stream",
     "text": [
      "11---->0---->25---->16---->10---->None\n"
     ]
    }
   ],
   "source": [
    "lst.print_list()"
   ]
  },
  {
   "cell_type": "code",
   "execution_count": 258,
   "id": "a8cb5864",
   "metadata": {},
   "outputs": [
    {
     "data": {
      "text/plain": [
       "<__main__.Node at 0x1a478c68590>"
      ]
     },
     "execution_count": 258,
     "metadata": {},
     "output_type": "execute_result"
    }
   ],
   "source": [
    "lst.get(2)"
   ]
  },
  {
   "cell_type": "code",
   "execution_count": 259,
   "id": "84a790c9",
   "metadata": {},
   "outputs": [
    {
     "name": "stdout",
     "output_type": "stream",
     "text": [
      "<__main__.Node object at 0x000001A478A87E30>\n"
     ]
    },
    {
     "data": {
      "text/plain": [
       "True"
      ]
     },
     "execution_count": 259,
     "metadata": {},
     "output_type": "execute_result"
    }
   ],
   "source": [
    "lst.set_value(1,7)"
   ]
  },
  {
   "cell_type": "code",
   "execution_count": 260,
   "id": "e29dc3b1",
   "metadata": {},
   "outputs": [
    {
     "name": "stdout",
     "output_type": "stream",
     "text": [
      "11---->7---->25---->16---->10---->None\n"
     ]
    }
   ],
   "source": [
    "lst.print_list()"
   ]
  },
  {
   "cell_type": "code",
   "execution_count": 266,
   "id": "ef615db8",
   "metadata": {},
   "outputs": [
    {
     "name": "stdout",
     "output_type": "stream",
     "text": [
      "11---->7---->25---->16---->10---->None\n"
     ]
    }
   ],
   "source": [
    "lst.insert(1,1)"
   ]
  }
 ],
 "metadata": {
  "kernelspec": {
   "display_name": "Python 3",
   "language": "python",
   "name": "python3"
  },
  "language_info": {
   "codemirror_mode": {
    "name": "ipython",
    "version": 3
   },
   "file_extension": ".py",
   "mimetype": "text/x-python",
   "name": "python",
   "nbconvert_exporter": "python",
   "pygments_lexer": "ipython3",
   "version": "3.12.6"
  }
 },
 "nbformat": 4,
 "nbformat_minor": 5
}
