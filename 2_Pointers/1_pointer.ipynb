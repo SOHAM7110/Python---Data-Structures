{
 "cells": [
  {
   "cell_type": "code",
   "execution_count": null,
   "id": "35dc5689",
   "metadata": {},
   "outputs": [],
   "source": [
    "num1 = 11\n",
    "num2 = num1"
   ]
  },
  {
   "cell_type": "markdown",
   "id": "f3e59835",
   "metadata": {},
   "source": [
    "before the values are updated"
   ]
  },
  {
   "cell_type": "code",
   "execution_count": null,
   "id": "d48da0fb",
   "metadata": {},
   "outputs": [],
   "source": [
    "num1"
   ]
  },
  {
   "cell_type": "code",
   "execution_count": null,
   "id": "c85f73d8",
   "metadata": {},
   "outputs": [],
   "source": [
    "num2"
   ]
  },
  {
   "cell_type": "markdown",
   "id": "019111fa",
   "metadata": {},
   "source": [
    "they are pointing to the same memory address"
   ]
  },
  {
   "cell_type": "code",
   "execution_count": 19,
   "id": "9975879a",
   "metadata": {},
   "outputs": [
    {
     "name": "stdout",
     "output_type": "stream",
     "text": [
      "num1 points to  140712289372920\n",
      "num2 points to  140712289373272\n"
     ]
    }
   ],
   "source": [
    "print(\"num1 points to \", id(num1))\n",
    "print(\"num2 points to \", id(num2))"
   ]
  },
  {
   "cell_type": "markdown",
   "id": "5de113d5",
   "metadata": {},
   "source": [
    "Now, Updating the values :"
   ]
  },
  {
   "cell_type": "code",
   "execution_count": 20,
   "id": "602e0cad",
   "metadata": {},
   "outputs": [
    {
     "name": "stdout",
     "output_type": "stream",
     "text": [
      "num1 points to  140712289372920\n",
      "num2 points to  140712289373272\n"
     ]
    }
   ],
   "source": [
    "num2 = 22\n",
    "\n",
    "print(\"num1 points to \", id(num1))\n",
    "print(\"num2 points to \", id(num2))"
   ]
  },
  {
   "cell_type": "markdown",
   "id": "b398375e",
   "metadata": {},
   "source": [
    "Another Example"
   ]
  },
  {
   "cell_type": "code",
   "execution_count": null,
   "id": "d9a6b0c1",
   "metadata": {},
   "outputs": [],
   "source": [
    "dict1 = {\n",
    "    'value':11\n",
    "}\n",
    "dict2 = dict1"
   ]
  },
  {
   "cell_type": "markdown",
   "id": "a22ddf75",
   "metadata": {},
   "source": [
    "before updating"
   ]
  },
  {
   "cell_type": "code",
   "execution_count": null,
   "id": "8da8c61a",
   "metadata": {},
   "outputs": [],
   "source": [
    "dict1"
   ]
  },
  {
   "cell_type": "code",
   "execution_count": null,
   "id": "fad7b3ed",
   "metadata": {},
   "outputs": [],
   "source": [
    "dict2"
   ]
  },
  {
   "cell_type": "markdown",
   "id": "c6991406",
   "metadata": {},
   "source": [
    "points to same address"
   ]
  },
  {
   "cell_type": "code",
   "execution_count": 21,
   "id": "bc0dea37",
   "metadata": {},
   "outputs": [
    {
     "name": "stdout",
     "output_type": "stream",
     "text": [
      "dict1 points to  1952367966400\n",
      "dicct2 points to  1952367966400\n"
     ]
    }
   ],
   "source": [
    "print('dict1 points to ',id(dict1))\n",
    "print('dicct2 points to ',id(dict2))"
   ]
  },
  {
   "cell_type": "markdown",
   "id": "e2dcad50",
   "metadata": {},
   "source": [
    "After Updating,"
   ]
  },
  {
   "cell_type": "code",
   "execution_count": 22,
   "id": "584744de",
   "metadata": {},
   "outputs": [],
   "source": [
    "dict2['value'] = 22"
   ]
  },
  {
   "cell_type": "code",
   "execution_count": null,
   "id": "77012605",
   "metadata": {},
   "outputs": [],
   "source": [
    "dict1"
   ]
  },
  {
   "cell_type": "code",
   "execution_count": null,
   "id": "c4329aa6",
   "metadata": {},
   "outputs": [],
   "source": [
    "dict2"
   ]
  },
  {
   "cell_type": "code",
   "execution_count": 23,
   "id": "660ab169",
   "metadata": {},
   "outputs": [
    {
     "name": "stdout",
     "output_type": "stream",
     "text": [
      "dict1 points to  1952367966400\n",
      "dicct2 points to  1952367966400\n"
     ]
    }
   ],
   "source": [
    "print('dict1 points to ',id(dict1))\n",
    "print('dicct2 points to ',id(dict2))"
   ]
  },
  {
   "cell_type": "markdown",
   "id": "22364e6a",
   "metadata": {},
   "source": [
    "the hell? Integers are immutable and cant be changed but Dictionaries can be changed\n"
   ]
  }
 ],
 "metadata": {
  "kernelspec": {
   "display_name": "Python 3",
   "language": "python",
   "name": "python3"
  },
  "language_info": {
   "codemirror_mode": {
    "name": "ipython",
    "version": 3
   },
   "file_extension": ".py",
   "mimetype": "text/x-python",
   "name": "python",
   "nbconvert_exporter": "python",
   "pygments_lexer": "ipython3",
   "version": "3.12.6"
  }
 },
 "nbformat": 4,
 "nbformat_minor": 5
}
