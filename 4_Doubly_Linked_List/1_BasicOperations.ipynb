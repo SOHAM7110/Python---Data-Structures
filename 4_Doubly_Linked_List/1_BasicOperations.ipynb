{
 "cells": [
  {
   "cell_type": "markdown",
   "id": "7438c7ab",
   "metadata": {},
   "source": [
    "# Doubly Linked List"
   ]
  },
  {
   "cell_type": "code",
   "execution_count": 1,
   "id": "7c0410bb",
   "metadata": {},
   "outputs": [],
   "source": [
    "class Node:\n",
    "    def __init__(self, value):\n",
    "        self.value = value\n",
    "        self.next = None\n",
    "        self.prev = None"
   ]
  },
  {
   "cell_type": "markdown",
   "id": "a8655c29",
   "metadata": {},
   "source": [
    "doubly Linked List"
   ]
  },
  {
   "cell_type": "code",
   "execution_count": 2,
   "id": "b78d996f",
   "metadata": {},
   "outputs": [],
   "source": [
    "class DLL:\n",
    "    def __init__(self, value):\n",
    "        new_node = Node(value)\n",
    "        self.head = new_node\n",
    "        self.tail = new_node\n",
    "        self.length = 1\n",
    "    \n",
    "    def print_list(self):\n",
    "        if self.head:\n",
    "            temp = self.head\n",
    "            print(\"None <---> \", end = \"\")\n",
    "            while temp is not None:\n",
    "                print(temp.value,end = \" <---> \")\n",
    "                temp = temp.next\n",
    "            print(\"None\")\n",
    "        else:\n",
    "            return None\n",
    "        \n",
    "    def append(self, value):\n",
    "        new_node = Node(value)\n",
    "        if self.length == 0:\n",
    "            self.head = new_node\n",
    "            self.tail = new_node\n",
    "        else:\n",
    "            self.tail.next = new_node\n",
    "            new_node.prev = self.tail\n",
    "            self.tail = new_node\n",
    "            self.length += 1\n",
    "            return True\n",
    "        \n",
    "    def pop(self):\n",
    "        if self.length == 0:\n",
    "            return None\n",
    "        \n",
    "        temp = self.tail\n",
    "        self.tail = self.tail.prev\n",
    "        self.tail.next = None\n",
    "        temp.prev = None\n",
    "\n",
    "        self.length -= 1\n",
    "\n",
    "        if self.length == 0:\n",
    "            self.head = None\n",
    "            self.tail = None\n",
    "\n",
    "        return temp     # for remove we dont need temp.value, we need temp  \n",
    "    \n",
    "    def prepend(self,value):\n",
    "        new_node = Node(value)\n",
    "        if self.length == 0:\n",
    "            self.head = new_node\n",
    "            self.tail = new_node\n",
    "        else:\n",
    "            new_node.next = self.head\n",
    "            self.head.prev = new_node\n",
    "            self.head = new_node\n",
    "        \n",
    "        self.length += 1\n",
    "        return True\n",
    "    \n",
    "    def popFirst(self):\n",
    "        if self.length == 0:\n",
    "            return None\n",
    "        if self.length == 1:\n",
    "            self.head = None\n",
    "            self.tail = None\n",
    "        else:\n",
    "            temp = self.head\n",
    "            self.head = self.head.next\n",
    "            self.head.prev = None\n",
    "            temp.next = None\n",
    "        self.length -= 1\n",
    "        return temp   # for remove we dont need temp.value, we need temp  \n",
    "    \n",
    "    def get(self, index):\n",
    "        if index < 0 or index >= self.length:\n",
    "            return \"invalid index\"\n",
    "        elif index < (self.length//2):\n",
    "            temp = self.head\n",
    "            for _ in range(index):\n",
    "                temp = temp.next\n",
    "        else:\n",
    "            temp = self.tail\n",
    "            for _ in range(self.length - 1, index, -1):\n",
    "                temp = temp.prev\n",
    "        return temp     # for insert and remove we dont need temp.value, we need temp\n",
    "    \n",
    "    def insert(self, index, value):\n",
    "        if index < 0 or index > self.length:    # index out of bounds\n",
    "            return None\n",
    "        elif index == 0:\n",
    "            return self.prepend(value)\n",
    "        elif index == self.length:\n",
    "            return self.append(value)\n",
    "        else:\n",
    "            new_node = Node(value)\n",
    "            before = self.get(index-1)\n",
    "            after = before.next\n",
    "\n",
    "            new_node.next = after\n",
    "            new_node.prev = before\n",
    "            before.next = new_node\n",
    "            after.prev = new_node\n",
    "            self.length += 1\n",
    "            return True\n",
    "    \n",
    "    def remove(self, index, value):\n",
    "        if index < 0 or index > self.length:\n",
    "            return \"invalid index\"\n",
    "        elif index == 0:\n",
    "            return self.prepend()\n",
    "        elif index == self.length:\n",
    "            return self.pop()\n",
    "        else:\n",
    "            temp = self.get(index)\n",
    "\n",
    "            temp.next.prev = temp.prev\n",
    "            temp.prev.next = temp.next\n",
    "            temp.next = None\n",
    "            temp.prev = None\n",
    "            self.length -= 1\n",
    "            return temp.value"
   ]
  },
  {
   "cell_type": "code",
   "execution_count": 3,
   "id": "23337547",
   "metadata": {},
   "outputs": [
    {
     "data": {
      "text/plain": [
       "True"
      ]
     },
     "execution_count": 3,
     "metadata": {},
     "output_type": "execute_result"
    }
   ],
   "source": [
    "dll = DLL(25)\n",
    "dll.append(7)\n",
    "dll.append(11)\n",
    "dll.append(10)\n",
    "dll.append(100)\n",
    "dll.append(6)\n",
    "dll.append(69)"
   ]
  },
  {
   "cell_type": "code",
   "execution_count": 4,
   "id": "d3f51b0c",
   "metadata": {},
   "outputs": [
    {
     "name": "stdout",
     "output_type": "stream",
     "text": [
      "None <---> 25 <---> 7 <---> 11 <---> 10 <---> 100 <---> 6 <---> 69 <---> None\n"
     ]
    }
   ],
   "source": [
    "dll.print_list()"
   ]
  },
  {
   "cell_type": "code",
   "execution_count": 5,
   "id": "3e21a09a",
   "metadata": {},
   "outputs": [
    {
     "data": {
      "text/plain": [
       "True"
      ]
     },
     "execution_count": 5,
     "metadata": {},
     "output_type": "execute_result"
    }
   ],
   "source": [
    "dll.prepend(16)"
   ]
  },
  {
   "cell_type": "code",
   "execution_count": 7,
   "id": "efada651",
   "metadata": {},
   "outputs": [
    {
     "name": "stdout",
     "output_type": "stream",
     "text": [
      "None <---> 16 <---> 25 <---> 77 <---> 77 <---> 7 <---> 11 <---> 10 <---> 100 <---> 6 <---> 69 <---> None\n"
     ]
    }
   ],
   "source": [
    "dll.insert(2,77)\n",
    "dll.print_list()"
   ]
  },
  {
   "cell_type": "code",
   "execution_count": null,
   "id": "f15513a5",
   "metadata": {},
   "outputs": [
    {
     "name": "stdout",
     "output_type": "stream",
     "text": [
      "None <---> 16 <---> 25 <---> 7 <---> 11 <---> 10 <---> 100 <---> 6 <---> 69 <---> None\n"
     ]
    }
   ],
   "source": [
    "dll.remove(2,77)\n",
    "dll.print_list()"
   ]
  },
  {
   "cell_type": "code",
   "execution_count": 10,
   "id": "17d2485b",
   "metadata": {},
   "outputs": [
    {
     "data": {
      "text/plain": [
       "<__main__.Node at 0x1f4ca497e60>"
      ]
     },
     "execution_count": 10,
     "metadata": {},
     "output_type": "execute_result"
    }
   ],
   "source": [
    "dll.pop()"
   ]
  },
  {
   "cell_type": "code",
   "execution_count": 13,
   "id": "72e05ddf",
   "metadata": {},
   "outputs": [
    {
     "data": {
      "text/plain": [
       "<__main__.Node at 0x1f4ca4e4080>"
      ]
     },
     "execution_count": 13,
     "metadata": {},
     "output_type": "execute_result"
    }
   ],
   "source": [
    "dll.popFirst()"
   ]
  },
  {
   "cell_type": "code",
   "execution_count": 14,
   "id": "3fd09d8f",
   "metadata": {},
   "outputs": [
    {
     "name": "stdout",
     "output_type": "stream",
     "text": [
      "None <---> 25 <---> 7 <---> 11 <---> 10 <---> 100 <---> 6 <---> None\n"
     ]
    }
   ],
   "source": [
    "dll.print_list()"
   ]
  }
 ],
 "metadata": {
  "kernelspec": {
   "display_name": "Python 3",
   "language": "python",
   "name": "python3"
  },
  "language_info": {
   "codemirror_mode": {
    "name": "ipython",
    "version": 3
   },
   "file_extension": ".py",
   "mimetype": "text/x-python",
   "name": "python",
   "nbconvert_exporter": "python",
   "pygments_lexer": "ipython3",
   "version": "3.12.6"
  }
 },
 "nbformat": 4,
 "nbformat_minor": 5
}
