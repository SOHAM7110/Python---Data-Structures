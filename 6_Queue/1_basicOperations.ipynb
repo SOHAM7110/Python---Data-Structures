{
 "cells": [
  {
   "cell_type": "markdown",
   "id": "826db80d",
   "metadata": {},
   "source": [
    "# Queue<br>\n",
    "Queue is a linear data Structure that follows the FIFO (First In First Out) principle"
   ]
  },
  {
   "cell_type": "code",
   "execution_count": 18,
   "id": "9519ca91",
   "metadata": {},
   "outputs": [],
   "source": [
    "class Node:\n",
    "    def __init__(self, value):\n",
    "        self.value = value\n",
    "        self.next =  None"
   ]
  },
  {
   "cell_type": "code",
   "execution_count": 19,
   "id": "a300af42",
   "metadata": {},
   "outputs": [],
   "source": [
    "class Queue:\n",
    "    def __init__(self, value):\n",
    "        new_node = Node(value)\n",
    "        self.first = new_node\n",
    "        self.last = new_node\n",
    "        self.length = 1\n",
    "\n",
    "    def print_queue(self):\n",
    "        temp = self.first\n",
    "        while temp is not None:\n",
    "            print(temp.value)\n",
    "            temp = temp.next\n",
    "\n",
    "\n",
    "    def enqueue(self, value):\n",
    "        new_node = Node(value)\n",
    "        if self.length == 0:\n",
    "            self.first = new_node\n",
    "            self.last = new_node\n",
    "        else:\n",
    "            self.last.next = new_node\n",
    "            self.last = new_node\n",
    "        self.length += 1\n",
    "        return True\n",
    "    \n",
    "    def dequeue(self):\n",
    "        if self.length == 0:\n",
    "            return None\n",
    "        temp = self.first\n",
    "        if self.length == 1:\n",
    "            self.first = None\n",
    "            self.last = None\n",
    "        else:\n",
    "            self.first = self.first.next\n",
    "            temp.next = None\n",
    "        self.length -= 1\n",
    "        return temp.value"
   ]
  },
  {
   "cell_type": "code",
   "execution_count": 20,
   "id": "224bc94e",
   "metadata": {},
   "outputs": [
    {
     "data": {
      "text/plain": [
       "True"
      ]
     },
     "execution_count": 20,
     "metadata": {},
     "output_type": "execute_result"
    }
   ],
   "source": [
    "q = Queue(10)\n",
    "q.enqueue(20)\n",
    "q.enqueue(30)\n",
    "q.enqueue(40)\n",
    "q.enqueue(50)\n",
    "q.enqueue(60)\n",
    "q.enqueue(70)"
   ]
  },
  {
   "cell_type": "code",
   "execution_count": 21,
   "id": "f8afe66e",
   "metadata": {},
   "outputs": [
    {
     "name": "stdout",
     "output_type": "stream",
     "text": [
      "10\n",
      "20\n",
      "30\n",
      "40\n",
      "50\n",
      "60\n",
      "70\n"
     ]
    }
   ],
   "source": [
    "q.print_queue()"
   ]
  },
  {
   "cell_type": "code",
   "execution_count": 22,
   "id": "27496972",
   "metadata": {},
   "outputs": [
    {
     "data": {
      "text/plain": [
       "30"
      ]
     },
     "execution_count": 22,
     "metadata": {},
     "output_type": "execute_result"
    }
   ],
   "source": [
    "q.dequeue()\n",
    "q.dequeue()\n",
    "q.dequeue()"
   ]
  },
  {
   "cell_type": "code",
   "execution_count": 23,
   "id": "976aba0a",
   "metadata": {},
   "outputs": [
    {
     "name": "stdout",
     "output_type": "stream",
     "text": [
      "40\n",
      "50\n",
      "60\n",
      "70\n"
     ]
    }
   ],
   "source": [
    "q.print_queue()"
   ]
  }
 ],
 "metadata": {
  "kernelspec": {
   "display_name": "Python 3",
   "language": "python",
   "name": "python3"
  },
  "language_info": {
   "codemirror_mode": {
    "name": "ipython",
    "version": 3
   },
   "file_extension": ".py",
   "mimetype": "text/x-python",
   "name": "python",
   "nbconvert_exporter": "python",
   "pygments_lexer": "ipython3",
   "version": "3.12.6"
  }
 },
 "nbformat": 4,
 "nbformat_minor": 5
}
