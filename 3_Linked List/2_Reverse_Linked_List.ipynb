{
 "cells": [
  {
   "cell_type": "code",
   "execution_count": 14,
   "id": "aa4dd89b",
   "metadata": {},
   "outputs": [],
   "source": [
    "class Node:\n",
    "    def __init__(self, value):\n",
    "        self.value = value\n",
    "        self.next = None\n",
    "\n",
    "class LinkedList:\n",
    "    def __init__(self, value):\n",
    "        self.new_node = Node(value)\n",
    "        self.head = self.new_node\n",
    "        self.tail = self.new_node\n",
    "        self.length = 1\n",
    "\n",
    "    def show(self):\n",
    "        temp = self.head\n",
    "        while temp:\n",
    "            print(temp.value, end = \" ---->\")\n",
    "            temp = temp.next\n",
    "        print(\"None\")\n",
    "\n",
    "    def append(self, value):\n",
    "        new_node = Node(value)\n",
    "\n",
    "        if self.head is None:\n",
    "            self.head = new_node\n",
    "            self.tail = new_node\n",
    "        else:\n",
    "            self.tail.next = new_node\n",
    "            self.tail = new_node\n",
    "        \n",
    "        self.length += 1\n",
    "        return True\n",
    "    \n",
    "    def rev(self):      # reverse Linked List\n",
    "        temp = self.head\n",
    "\n",
    "        # swapping Head and Tail\n",
    "        self.head, self.tail = self.tail, self.head\n",
    "        # print(\"head = \", self.head.value,\"\\t\",\"Tail = \", self.tail.value)\n",
    "\n",
    "        after = temp.next\n",
    "        before = None\n",
    "        for _ in range(self.length):\n",
    "            after = temp.next\n",
    "            temp.next = before\n",
    "            before = temp\n",
    "            temp = after\n",
    "\n",
    "        return self.show()\n",
    "\n"
   ]
  },
  {
   "cell_type": "markdown",
   "id": "90018520",
   "metadata": {},
   "source": [
    "creating a linked list :"
   ]
  },
  {
   "cell_type": "code",
   "execution_count": 15,
   "id": "f364be13",
   "metadata": {},
   "outputs": [
    {
     "data": {
      "text/plain": [
       "True"
      ]
     },
     "execution_count": 15,
     "metadata": {},
     "output_type": "execute_result"
    }
   ],
   "source": [
    "ll = LinkedList(1)\n",
    "ll.append(2)\n",
    "ll.append(3)\n",
    "ll.append(4)\n",
    "ll.append(5)\n",
    "ll.append(6)\n",
    "ll.append(7)"
   ]
  },
  {
   "cell_type": "code",
   "execution_count": 16,
   "id": "ec242f63",
   "metadata": {},
   "outputs": [
    {
     "name": "stdout",
     "output_type": "stream",
     "text": [
      "1 ---->2 ---->3 ---->4 ---->5 ---->6 ---->7 ---->None\n"
     ]
    }
   ],
   "source": [
    "ll.show()"
   ]
  },
  {
   "cell_type": "code",
   "execution_count": 17,
   "id": "076f9951",
   "metadata": {},
   "outputs": [
    {
     "name": "stdout",
     "output_type": "stream",
     "text": [
      "head =  1 \t Tail =  7\n"
     ]
    }
   ],
   "source": [
    "print(\"head = \", ll.head.value,\"\\t\",\"Tail = \", ll.tail.value)"
   ]
  },
  {
   "cell_type": "markdown",
   "id": "d3998f70",
   "metadata": {},
   "source": [
    "Reversing a Linked List"
   ]
  },
  {
   "cell_type": "code",
   "execution_count": 18,
   "id": "69ddf851",
   "metadata": {},
   "outputs": [
    {
     "name": "stdout",
     "output_type": "stream",
     "text": [
      "7 ---->6 ---->5 ---->4 ---->3 ---->2 ---->1 ---->None\n"
     ]
    }
   ],
   "source": [
    "ll.rev()"
   ]
  }
 ],
 "metadata": {
  "kernelspec": {
   "display_name": "Python 3",
   "language": "python",
   "name": "python3"
  },
  "language_info": {
   "codemirror_mode": {
    "name": "ipython",
    "version": 3
   },
   "file_extension": ".py",
   "mimetype": "text/x-python",
   "name": "python",
   "nbconvert_exporter": "python",
   "pygments_lexer": "ipython3",
   "version": "3.12.6"
  }
 },
 "nbformat": 4,
 "nbformat_minor": 5
}
